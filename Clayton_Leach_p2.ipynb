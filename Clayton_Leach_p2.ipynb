{
 "cells": [
  {
   "cell_type": "markdown",
   "metadata": {},
   "source": [
    "# Project 2: Topic Classification"
   ]
  },
  {
   "cell_type": "markdown",
   "metadata": {},
   "source": [
    "W207  <br />\n",
    "Class: Thursday 6:30-8 PDT <br />\n",
    "Student: Clayton Leach"
   ]
  },
  {
   "cell_type": "markdown",
   "metadata": {},
   "source": [
    "In this project, you'll work with text data from newsgroup postings on a variety of topics. You'll train classifiers to distinguish between the topics based on the text of the posts. Whereas with digit classification, the input is relatively dense: a 28x28 matrix of pixels, many of which are non-zero, here we'll represent each document with a \"bag-of-words\" model. As you'll see, this makes the feature representation quite sparse -- only a few words of the total vocabulary are active in any given document. The bag-of-words assumption here is that the label depends only on the words; their order is not important.\n",
    "\n",
    "The SK-learn documentation on feature extraction will prove useful:\n",
    "http://scikit-learn.org/stable/modules/feature_extraction.html\n",
    "\n",
    "Each problem can be addressed succinctly with the included packages -- please don't add any more. Grading will be based on writing clean, commented code, along with a few short answers.\n",
    "\n",
    "As always, you're welcome to work on the project in groups and discuss ideas on the course wall, but please prepare your own write-up and write your own code."
   ]
  },
  {
   "cell_type": "code",
   "execution_count": 65,
   "metadata": {},
   "outputs": [],
   "source": [
    "# This tells matplotlib not to try opening a new window for each plot.\n",
    "%matplotlib inline\n",
    "\n",
    "# General libraries.\n",
    "import re\n",
    "import numpy as np\n",
    "import matplotlib.pyplot as plt\n",
    "\n",
    "# SK-learn libraries for learning.\n",
    "from sklearn.pipeline import Pipeline\n",
    "from sklearn.neighbors import KNeighborsClassifier\n",
    "from sklearn.linear_model import LogisticRegression\n",
    "from sklearn.naive_bayes import BernoulliNB\n",
    "from sklearn.naive_bayes import MultinomialNB\n",
    "\n",
    "#Changed to .model_selection as sklearn moved things around\n",
    "from sklearn.model_selection import GridSearchCV\n",
    "#Including for Grid search (I know we aren't supposed to add packages!)\n",
    "from sklearn.metrics import make_scorer, accuracy_score\n",
    "\n",
    "# SK-learn libraries for evaluation.\n",
    "from sklearn.metrics import confusion_matrix\n",
    "from sklearn import metrics\n",
    "from sklearn.metrics import classification_report\n",
    "\n",
    "# SK-learn library for importing the newsgroup data.\n",
    "from sklearn.datasets import fetch_20newsgroups\n",
    "\n",
    "# SK-learn libraries for feature extraction from text.\n",
    "from sklearn.feature_extraction.text import *"
   ]
  },
  {
   "cell_type": "markdown",
   "metadata": {},
   "source": [
    "Load the data, stripping out metadata so that we learn classifiers that only use textual features. By default, newsgroups data is split into train and test sets. We further split the test so we have a dev set. Note that we specify 4 categories to use for this project. If you remove the categories argument from the fetch function, you'll get all 20 categories."
   ]
  },
  {
   "cell_type": "code",
   "execution_count": 3,
   "metadata": {},
   "outputs": [
    {
     "name": "stdout",
     "output_type": "stream",
     "text": [
      "training label shape: (2034,)\n",
      "test data shape: 677\n",
      "test label shape: (677,)\n",
      "dev data shape: 676\n",
      "dev label shape: (676,)\n",
      "labels names: ['alt.atheism', 'comp.graphics', 'sci.space', 'talk.religion.misc']\n"
     ]
    }
   ],
   "source": [
    "categories = ['alt.atheism', 'talk.religion.misc', 'comp.graphics', 'sci.space']\n",
    "newsgroups_train = fetch_20newsgroups(subset='train',\n",
    "                                      remove=('headers', 'footers', 'quotes'),\n",
    "                                      categories=categories)\n",
    "newsgroups_test = fetch_20newsgroups(subset='test',\n",
    "                                     remove=('headers', 'footers', 'quotes'),\n",
    "                                     categories=categories)\n",
    "\n",
    "num_test = len(newsgroups_test.target)\n",
    "\n",
    "\n",
    "# Added round function to index selection as len(newsgroups_test) is odd\n",
    "test_data, test_labels = newsgroups_test.data[int(round(num_test/2,0)):], \\\n",
    "                                            newsgroups_test.target[int(round(num_test/2,0)):]\n",
    "dev_data, dev_labels = newsgroups_test.data[:int(round(num_test/2,0))], \\\n",
    "                                            newsgroups_test.target[:int(round(num_test/2,0))]\n",
    "train_data, train_labels = newsgroups_train.data, newsgroups_train.target\n",
    "\n",
    "print ('training label shape:', train_labels.shape)\n",
    "print ('test data shape:', len(test_data))\n",
    "print ('test label shape:', test_labels.shape)\n",
    "print ('dev data shape:', len(dev_data))\n",
    "print ('dev label shape:', dev_labels.shape)\n",
    "print ('labels names:', newsgroups_train.target_names)"
   ]
  },
  {
   "cell_type": "markdown",
   "metadata": {},
   "source": [
    "(1) For each of the first 5 training examples, print the text of the message along with the label.\n",
    "\n",
    "[2 pts]"
   ]
  },
  {
   "cell_type": "code",
   "execution_count": 4,
   "metadata": {},
   "outputs": [
    {
     "name": "stdout",
     "output_type": "stream",
     "text": [
      "Example 1 is of type talk.religion.misc and reads:\n",
      "\n",
      "Hi,\n",
      "\n",
      "I've noticed that if you only save a model (with all your mapping planes\n",
      "positioned carefully) to a .3DS file that when you reload it after restarting\n",
      "3DS, they are given a default position and orientation.  But if you save\n",
      "to a .PRJ file their positions/orientation are preserved.  Does anyone\n",
      "know why this information is not stored in the .3DS file?  Nothing is\n",
      "explicitly said in the manual about saving texture rules in the .PRJ file. \n",
      "I'd like to be able to read the texture rule information, does anyone have \n",
      "the format for the .PRJ file?\n",
      "\n",
      "Is the .CEL file format available from somewhere?\n",
      "\n",
      "Rych\n",
      "\n",
      "Example 2 is of type sci.space and reads:\n",
      "\n",
      "\n",
      "\n",
      "Seems to be, barring evidence to the contrary, that Koresh was simply\n",
      "another deranged fanatic who thought it neccessary to take a whole bunch of\n",
      "folks with him, children and all, to satisfy his delusional mania. Jim\n",
      "Jones, circa 1993.\n",
      "\n",
      "\n",
      "Nope - fruitcakes like Koresh have been demonstrating such evil corruption\n",
      "for centuries.\n",
      "\n",
      "Example 3 is of type comp.graphics and reads:\n",
      "\n",
      "\n",
      " >In article <1993Apr19.020359.26996@sq.sq.com>, msb@sq.sq.com (Mark Brader) \n",
      "\n",
      "MB>                                                             So the\n",
      "MB> 1970 figure seems unlikely to actually be anything but a perijove.\n",
      "\n",
      "JG>Sorry, _perijoves_...I'm not used to talking this language.\n",
      "\n",
      "Couldn't we just say periapsis or apoapsis?\n",
      "\n",
      " \n",
      "\n",
      "Example 4 is of type alt.atheism and reads:\n",
      "\n",
      "I have a request for those who would like to see Charley Wingate\n",
      "respond to the \"Charley Challenges\" (and judging from my e-mail, there\n",
      "appear to be quite a few of you.)  \n",
      "\n",
      "It is clear that Mr. Wingate intends to continue to post tangential or\n",
      "unrelated articles while ingoring the Challenges themselves.  Between\n",
      "the last two re-postings of the Challenges, I noted perhaps a dozen or\n",
      "more posts by Mr. Wingate, none of which answered a single Challenge.  \n",
      "\n",
      "It seems unmistakable to me that Mr. Wingate hopes that the questions\n",
      "will just go away, and he is doing his level best to change the\n",
      "subject.  Given that this seems a rather common net.theist tactic, I\n",
      "would like to suggest that we impress upon him our desire for answers,\n",
      "in the following manner:\n",
      "\n",
      "1. Ignore any future articles by Mr. Wingate that do not address the\n",
      "Challenges, until he answers them or explictly announces that he\n",
      "refuses to do so.\n",
      "\n",
      "--or--\n",
      "\n",
      "2. If you must respond to one of his articles, include within it\n",
      "something similar to the following:\n",
      "\n",
      "    \"Please answer the questions posed to you in the Charley Challenges.\"\n",
      "\n",
      "Really, I'm not looking to humiliate anyone here, I just want some\n",
      "honest answers.  You wouldn't think that honesty would be too much to\n",
      "ask from a devout Christian, would you?  \n",
      "\n",
      "Nevermind, that was a rhetorical question.\n",
      "\n",
      "Example 5 is of type comp.graphics and reads:\n",
      "\n",
      "AW&ST  had a brief blurb on a Manned Lunar Exploration confernce\n",
      "May 7th  at Crystal City Virginia, under the auspices of AIAA.\n",
      "\n",
      "Does anyone know more about this?  How much, to attend????\n",
      "\n",
      "Anyone want to go?\n",
      "\n"
     ]
    }
   ],
   "source": [
    "def print_training_examples(examples, labels, label_key, num_examples=5):\n",
    "    for x in range(0,num_examples):\n",
    "        print(\"Example %s is of type %s and reads:\" % ((x+1),categories[labels[x]]))\n",
    "        print(\"\")\n",
    "        print(examples[x])\n",
    "        print(\"\")\n",
    "    \n",
    "\n",
    "print_training_examples(train_data, train_labels, categories)\n"
   ]
  },
  {
   "cell_type": "markdown",
   "metadata": {},
   "source": [
    "(2) Use CountVectorizer to turn the raw training text into feature vectors. You should use the fit_transform function, which makes 2 passes through the data: first it computes the vocabulary (\"fit\"), second it converts the raw text into feature vectors using the vocabulary (\"transform\").\n",
    "\n",
    "The vectorizer has a lot of options. To get familiar with some of them, write code to answer these questions:\n",
    "\n",
    "a. The output of the transform (also of fit_transform) is a sparse matrix: http://docs.scipy.org/doc/scipy-0.14.0/reference/generated/scipy.sparse.csr_matrix.html. What is the size of the vocabulary? What is the average number of non-zero features per example? What fraction of the entries in the matrix are non-zero? Hint: use \"nnz\" and \"shape\" attributes.\n",
    "\n",
    "b. What are the 0th and last feature strings (in alphabetical order)? Hint: use the vectorizer's get_feature_names function.\n",
    "\n",
    "c. Specify your own vocabulary with 4 words: [\"atheism\", \"graphics\", \"space\", \"religion\"]. Confirm the training vectors are appropriately shaped. Now what's the average number of non-zero features per example?\n",
    "\n",
    "d. Instead of extracting unigram word features, use \"analyzer\" and \"ngram_range\" to extract bigram and trigram character features. What size vocabulary does this yield?\n",
    "\n",
    "e. Use the \"min_df\" argument to prune words that appear in fewer than 10 documents. What size vocabulary does this yield?\n",
    "\n",
    "f. Using the standard CountVectorizer, what fraction of the words in the dev data are missing from the vocabulary? Hint: build a vocabulary for both train and dev and look at the size of the difference.\n",
    "\n",
    "[6 pts]"
   ]
  },
  {
   "cell_type": "code",
   "execution_count": 5,
   "metadata": {},
   "outputs": [
    {
     "name": "stdout",
     "output_type": "stream",
     "text": [
      "The vocabulary length is equal to the number of columns, which is: 26879\n",
      "The average non-zero values per example is equal to the total non-zero values divided bythe number of examples: 196700 / 2034 = 96.70599803343165\n",
      "\n",
      "The first string is 00\n",
      "The first string with only letters is aah\n",
      "The last string is zyxel\n",
      "\n",
      "The vocabulary length is equal to the number of columns, which is: 4\n",
      "The average non-zero values per example is equal to the total non-zero values divided bythe number of examples: 546 / 2034 = 0.26843657817109146\n",
      "\n",
      "Vocab length when we use combinations up to 1-grams is: 26879\n",
      "Vocab length when we use combinations up to 2-grams is: 221770\n",
      "Vocab length when we use combinations up to 3-grams is: 537462\n",
      "\n",
      "The vocabulary length is equal to the number of columns, which is: 3064\n",
      "\n",
      "24.79 percent of the words in the dev vocab are not in the training vocab\n"
     ]
    }
   ],
   "source": [
    "def vectorize_analysis(train_data):\n",
    "    vectorize = CountVectorizer()\n",
    "    features = vectorize.fit_transform(train_data)\n",
    "    return features, vectorize\n",
    "\n",
    "def tfidf_vectorize_analysis(train_data, vocab=[], ngram_selection = (1,1), analyzer = 'word', min_doc_freq=1):\n",
    "    if len(vocab) <1:\n",
    "        vectorize = TfidfVectorizer(ngram_range=ngram_selection, analyzer=analyzer,\n",
    "                                    min_df=min_doc_freq)\n",
    "    else:\n",
    "        vectorize = TfidfVectorizer(vocabulary=vocab, ngram_range=ngram_selection, analyzer=analyzer,\n",
    "                                   min_df=min_doc_freq)\n",
    "        \n",
    "    features = vectorize.fit_transform(train_data)\n",
    "    \n",
    "    return features, vectorize\n",
    "\n",
    "feature_matrix, vectorize = vectorize_analysis(train_data)\n",
    "\n",
    "\n",
    "# Part a\n",
    "print(\"The vocabulary length is equal to the number of columns, which is:\",feature_matrix.shape[1])\n",
    "print(\"The average non-zero values per example is equal to the total non-zero values divided by\"\n",
    "      \"the number of examples: %s / %s = %s\" %(feature_matrix.nnz,feature_matrix.shape[0],\n",
    "                                               feature_matrix.nnz/feature_matrix.shape[0]))\n",
    "print()\n",
    "\n",
    "\n",
    "# Part b\n",
    "feature_names = vectorize.get_feature_names()\n",
    "alpha_feature_names = [feature for feature in feature_names if feature.isalpha()]\n",
    "print(\"The first string is\", feature_names[0])\n",
    "print(\"The first string with only letters is\",alpha_feature_names[0])\n",
    "print(\"The last string is\", feature_names[len(feature_names)-1])\n",
    "print()\n",
    "\n",
    "\n",
    "# Part c\n",
    "vocab = [\"atheism\", \"graphics\", \"space\", \"religion\"]\n",
    "\n",
    "# get vocab specific (vs) feature matrix and vectorizer object\n",
    "vs_feature_matrix, vs_vectorize = tfidf_vectorize_analysis(train_data, vocab=vocab)\n",
    "print(\"The vocabulary length is equal to the number of columns, which is:\",vs_feature_matrix.shape[1])\n",
    "print(\"The average non-zero values per example is equal to the total non-zero values divided by\"\n",
    "      \"the number of examples: %s / %s = %s\" %(vs_feature_matrix.nnz,vs_feature_matrix.shape[0],\n",
    "                                               vs_feature_matrix.nnz/vs_feature_matrix.shape[0]))\n",
    "print()\n",
    "\n",
    "\n",
    "# Part d\n",
    "# Get feature matrix and vectorizer object including n-grams\n",
    "for i in range(1,4):\n",
    "    ng_feature_matrix, ng_vectorize = tfidf_vectorize_analysis(train_data, ngram_selection=(1,i))\n",
    "    print(\"Vocab length when we use combinations up to %s-grams is:\" %i, ng_feature_matrix.shape[1])\n",
    "print()\n",
    "    \n",
    "    \n",
    "#Part e\n",
    "# Get feature matrix and vectorizer object with pruning if word in less than 10 documents\n",
    "pruned_feature_matrix, pruned_vectorize = tfidf_vectorize_analysis(train_data, min_doc_freq=10)\n",
    "print(\"The vocabulary length is equal to the number of columns, which is:\",pruned_feature_matrix.shape[1])\n",
    "print()\n",
    "\n",
    "#Part f\n",
    "dev_feature_matrix, dev_vectorize = vectorize_analysis(dev_data)\n",
    "dev_dict = dev_vectorize.get_feature_names()\n",
    "train_dict = vectorize.get_feature_names()\n",
    "missing_dev_words = [word for word in dev_dict if word not in train_dict]\n",
    "fraction_dev_missing = len(missing_dev_words)/len(dev_dict)\n",
    "print(\"%s percent of the words in the dev vocab are not in the training vocab\" %round((fraction_dev_missing*100),2))"
   ]
  },
  {
   "cell_type": "markdown",
   "metadata": {},
   "source": [
    "(3) Use the default CountVectorizer options and report the f1 score (use metrics.f1_score) for a k nearest neighbors classifier; find the optimal value for k. Also fit a Multinomial Naive Bayes model and find the optimal value for alpha. Finally, fit a logistic regression model and find the optimal value for the regularization strength C using l2 regularization. A few questions:\n",
    "\n",
    "a. Why doesn't nearest neighbors work well for this problem?\n",
    "\n",
    "b. Any ideas why logistic regression doesn't work as well as Naive Bayes?\n",
    "\n",
    "c. Logistic regression estimates a weight vector for each class, which you can access with the coef\\_ attribute. Output the sum of the squared weight values for each class for each setting of the C parameter. Briefly explain the relationship between the sum and the value of C.\n",
    "\n",
    "[4 pts]"
   ]
  },
  {
   "cell_type": "code",
   "execution_count": 45,
   "metadata": {},
   "outputs": [],
   "source": [
    "# If we use the data sets independently we will get mismatched feature lengths because some words\n",
    "# appear in one set, but not in the other.  To solve for this, I first combine the dev and training\n",
    "# vocabularys to create a master vocabulary.  \n",
    "\n",
    "test_feature_matrix, test_vectorize = vectorize_analysis(test_data)\n",
    "dev_feature_matrix, dev_vectorize = vectorize_analysis(dev_data)\n",
    "\n",
    "total_vocab={}\n",
    "for k,v in test_vectorize.vocabulary_.items():\n",
    "    total_vocab[k]=v\n",
    "\n",
    "for k,v in dev_vectorize.vocabulary_.items():\n",
    "    total_vocab[k]=v\n",
    "\n",
    "no_dupes_vocab = []\n",
    "for k,v in total_vocab.items():\n",
    "    no_dupes_vocab.append(k)\n",
    "    \n",
    "test_feature_matrix, test_vectorize = tfidf_vectorize_analysis(test_data,vocab = no_dupes_vocab)\n",
    "dev_feature_matrix, dev_vectorize = tfidf_vectorize_analysis(dev_data, vocab = no_dupes_vocab)"
   ]
  },
  {
   "cell_type": "code",
   "execution_count": 74,
   "metadata": {},
   "outputs": [],
   "source": [
    "def knn(k_value,features,labels,dev_features,dev_labels):\n",
    "    \"\"\"\n",
    "    fit a knn model, and report model features on a dev set\n",
    "    \n",
    "    :param k_values: hyperparameter indicating number of neighbors for model to consider\n",
    "    :param features: training feature set\n",
    "    :param labels: training label set\n",
    "    :param dev_features: dev feature set\n",
    "    :param dev_labels: dev label set\n",
    "    \"\"\"\n",
    "    \n",
    "    knn_model = KNeighborsClassifier(n_neighbors=k_value)\n",
    "    knn_model.fit(features,labels)\n",
    "    \n",
    "    #knn \"score\" is accuracy, so don't need to specify accuracy_score\n",
    "    accuracy = knn_model.score(dev_features,dev_labels)\n",
    "    \n",
    "    return knn_model, accuracy\n",
    "\n",
    "\n",
    "k=2\n",
    "knn_model, accuracy = knn(k,test_feature_matrix,test_labels,dev_feature_matrix,dev_labels)\n",
    "\n",
    "dev_predictions = knn_model.predict(dev_feature_matrix)\n",
    "knn_f1_score = metrics.f1_score(dev_labels,dev_predictions, average='micro')"
   ]
  },
  {
   "cell_type": "code",
   "execution_count": 90,
   "metadata": {
    "scrolled": false
   },
   "outputs": [
    {
     "name": "stderr",
     "output_type": "stream",
     "text": [
      "/Users/clayleach/p3env/lib/python3.7/site-packages/sklearn/model_selection/_split.py:1943: FutureWarning: You should specify a value for 'cv' instead of relying on the default value. The default value will change from 3 to 5 in version 0.22.\n",
      "  warnings.warn(CV_WARNING, FutureWarning)\n",
      "/Users/clayleach/p3env/lib/python3.7/site-packages/sklearn/model_selection/_search.py:841: DeprecationWarning: The default of the `iid` parameter will change from True to False in version 0.22 and will be removed in 0.24. This will change numeric results when test-set sizes are unequal.\n",
      "  DeprecationWarning)\n"
     ]
    }
   ],
   "source": [
    "def k_grid_search(k_values,scoring_method,test_features, test_labels):\n",
    "    \"\"\"\n",
    "    Searches for optimal k value for a knn model and returns the \n",
    "    output from the GridSearchCV function\n",
    "    \n",
    "    :param k_values: list of k values to try\n",
    "    :scoring_method: scoring method to be used in GridSearch\n",
    "    \"\"\"\n",
    "    \n",
    "    parameters = {'n_neighbors':k_values}\n",
    "    scorer = make_scorer(scoring_method)\n",
    "    knn_model = KNeighborsClassifier()\n",
    "     \n",
    "    best_k_finder = GridSearchCV(knn_model, parameters,\n",
    "                                    scoring=scorer,return_train_score=True)\n",
    "    gs_output = best_k_finder.fit(test_features, test_labels)\n",
    "    return gs_output\n",
    "\n",
    "\n",
    "k_vals = [x for x in range(1,11)]\n",
    "best_knn = k_grid_search(k_vals, accuracy_score, test_feature_matrix, test_labels)\n",
    "best_knn.cv_results_"
   ]
  },
  {
   "cell_type": "markdown",
   "metadata": {},
   "source": [
    "The optimal value of k appears to be 7 based on the mean test results.\n",
    "\n",
    "Part a: KNN doesn't work well for this problem because so little of our space is actually covered.  Space grows exponentially as you add dimensions (e.g. if you assume any dimension can go from 0-100 in integers, then going from 1 dimension to 2 dimensions increases possible combinations from 100, to 100^2) and our feature space is over 10,000.  At this size we would need an absolutely monsterous corpus of texts (maybe larger than exists?) in order to realistically expect new examples to have neighbors that are in fact \"near\"."
   ]
  },
  {
   "cell_type": "markdown",
   "metadata": {},
   "source": [
    "ANSWER:"
   ]
  },
  {
   "cell_type": "markdown",
   "metadata": {},
   "source": [
    "(4) Train a logistic regression model. Find the 5 features with the largest weights for each label -- 20 features in total. Create a table with 20 rows and 4 columns that shows the weight for each of these features for each of the labels. Create the table again with bigram features. Any surprising features in this table?\n",
    "\n",
    "[5 pts]"
   ]
  },
  {
   "cell_type": "code",
   "execution_count": 6,
   "metadata": {},
   "outputs": [],
   "source": [
    "#def P4():\n",
    "### STUDENT START ###\n",
    "\n",
    "\n",
    "### STUDENT END ###\n",
    "#P4()"
   ]
  },
  {
   "cell_type": "markdown",
   "metadata": {},
   "source": [
    "ANSWER:"
   ]
  },
  {
   "cell_type": "markdown",
   "metadata": {},
   "source": [
    "(5) Try to improve the logistic regression classifier by passing a custom preprocessor to CountVectorizer. The preprocessing function runs on the raw text, before it is split into words by the tokenizer. Your preprocessor should try to normalize the input in various ways to improve generalization. For example, try lowercasing everything, replacing sequences of numbers with a single token, removing various other non-letter characters, and shortening long words. If you're not already familiar with regular expressions for manipulating strings, see https://docs.python.org/2/library/re.html, and re.sub() in particular. With your new preprocessor, how much did you reduce the size of the dictionary?\n",
    "\n",
    "For reference, I was able to improve dev F1 by 2 points.\n",
    "\n",
    "[4 pts]"
   ]
  },
  {
   "cell_type": "code",
   "execution_count": 7,
   "metadata": {},
   "outputs": [],
   "source": [
    "def empty_preprocessor(s):\n",
    "    return s\n",
    "\n",
    "#def better_preprocessor(s):\n",
    "### STUDENT START ###\n",
    "\n",
    "### STUDENT END ###\n",
    "\n",
    "#def P5():\n",
    "### STUDENT START ###\n",
    "\n",
    "    \n",
    "### STUDENT END ###\n",
    "#P5()"
   ]
  },
  {
   "cell_type": "markdown",
   "metadata": {},
   "source": [
    "(6) The idea of regularization is to avoid learning very large weights (which are likely to fit the training data, but not generalize well) by adding a penalty to the total size of the learned weights. That is, logistic regression seeks the set of weights that minimizes errors in the training data AND has a small size. The default regularization, L2, computes this size as the sum of the squared weights (see P3, above). L1 regularization computes this size as the sum of the absolute values of the weights. The result is that whereas L2 regularization makes all the weights relatively small, L1 regularization drives lots of the weights to 0, effectively removing unimportant features.\n",
    "\n",
    "Train a logistic regression model using a \"l1\" penalty. Output the number of learned weights that are not equal to zero. How does this compare to the number of non-zero weights you get with \"l2\"? Now, reduce the size of the vocabulary by keeping only those features that have at least one non-zero weight and retrain a model using \"l2\".\n",
    "\n",
    "Make a plot showing accuracy of the re-trained model vs. the vocabulary size you get when pruning unused features by adjusting the C parameter.\n",
    "\n",
    "Note: The gradient descent code that trains the logistic regression model sometimes has trouble converging with extreme settings of the C parameter. Relax the convergence criteria by setting tol=.01 (the default is .0001).\n",
    "\n",
    "[4 pts]"
   ]
  },
  {
   "cell_type": "code",
   "execution_count": 8,
   "metadata": {},
   "outputs": [],
   "source": [
    "def P6():\n",
    "    # Keep this random seed here to make comparison easier.\n",
    "    np.random.seed(0)\n",
    "\n",
    "    ### STUDENT START ###\n",
    "\n",
    "    \n",
    "\n",
    "    ### STUDENT END ###\n",
    "P6()"
   ]
  },
  {
   "cell_type": "markdown",
   "metadata": {},
   "source": [
    "(7) Use the TfidfVectorizer -- how is this different from the CountVectorizer? Train a logistic regression model with C=100.\n",
    "\n",
    "Make predictions on the dev data and show the top 3 documents where the ratio R is largest, where R is:\n",
    "\n",
    "maximum predicted probability / predicted probability of the correct label\n",
    "\n",
    "What kinds of mistakes is the model making? Suggest a way to address one particular issue that you see.\n",
    "\n",
    "[4 pts]"
   ]
  },
  {
   "cell_type": "code",
   "execution_count": 11,
   "metadata": {},
   "outputs": [],
   "source": [
    "#def P7():\n",
    "    ### STUDENT START ###\n",
    "\n",
    "\n",
    "\n",
    "    ### STUDENT END ###\n",
    "#P7()"
   ]
  },
  {
   "cell_type": "markdown",
   "metadata": {},
   "source": [
    "ANSWER:"
   ]
  },
  {
   "cell_type": "markdown",
   "metadata": {},
   "source": [
    "(8) EXTRA CREDIT\n",
    "\n",
    "Try implementing one of your ideas based on your error analysis. Use logistic regression as your underlying model.\n",
    "\n",
    "- [1 pt] for a reasonable attempt\n",
    "- [2 pts] for improved performance"
   ]
  }
 ],
 "metadata": {
  "kernelspec": {
   "display_name": "Python 3",
   "language": "python",
   "name": "python3"
  },
  "language_info": {
   "codemirror_mode": {
    "name": "ipython",
    "version": 3
   },
   "file_extension": ".py",
   "mimetype": "text/x-python",
   "name": "python",
   "nbconvert_exporter": "python",
   "pygments_lexer": "ipython3",
   "version": "3.7.0"
  }
 },
 "nbformat": 4,
 "nbformat_minor": 1
}
